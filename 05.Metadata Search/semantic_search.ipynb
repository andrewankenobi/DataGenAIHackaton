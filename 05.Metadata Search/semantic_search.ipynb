{
 "cells": [
  {
   "cell_type": "markdown",
   "metadata": {},
   "source": [
    "### installing necessary packages"
   ]
  },
  {
   "cell_type": "code",
   "execution_count": 28,
   "metadata": {},
   "outputs": [],
   "source": [
    "#!pip install chromadb google-cloud-bigquery pandas langchain google-cloud-aiplatform gradio"
   ]
  },
  {
   "cell_type": "code",
   "execution_count": 29,
   "metadata": {},
   "outputs": [],
   "source": [
    "from google.cloud import bigquery\n",
    "import pandas as pd\n",
    "import requests\n",
    "from google.oauth2 import service_account\n",
    "import vertexai\n",
    "from vertexai.language_models import TextGenerationModel\n"
   ]
  },
  {
   "cell_type": "markdown",
   "metadata": {},
   "source": [
    "### we will be looking for data in public bigquery datasets\n",
    "\n",
    "We're creating explicit list of tables to search for"
   ]
  },
  {
   "cell_type": "code",
   "execution_count": 30,
   "metadata": {},
   "outputs": [],
   "source": [
    "\n",
    "bqclient = bigquery.Client(project='bigquery-public-data')"
   ]
  },
  {
   "cell_type": "code",
   "execution_count": 31,
   "metadata": {},
   "outputs": [],
   "source": [
    "#project_ref = bqclient.project('bigquery-public-data')\n",
    "\n",
    "table_list=[\n",
    "    {'dataset': 'iowa_liquor_sales', 'table': 'sales'},\n",
    "    {'dataset': 'london_bicycles', 'table': 'cycle_hire'},\n",
    "    {'dataset': 'london_bicycles', 'table': 'cycle_stations'},\n",
    "    {'dataset': 'ml_datasets', 'table': 'census_adult_income'},\n",
    "    {'dataset': 'ml_datasets', 'table': 'credit_card_default'},\n",
    "    {'dataset': 'ml_datasets', 'table': 'holidays_and_events_for_forecasting'},\n",
    "    {'dataset': 'ml_datasets', 'table': 'iris'},\n",
    "    {'dataset': 'ml_datasets', 'table': 'penguins'},\n",
    "    {'dataset': 'ml_datasets', 'table': 'ulb_fraud_detection'},\n",
    "    {'dataset': 'new_york_citibike', 'table': 'citibike_stations'},\n",
    "    {'dataset': 'new_york_citibike', 'table': 'citibike_trips'},\n",
    "    {'dataset': 'fdic_banks', 'table': 'institutions'},\n",
    "    {'dataset': 'fdic_banks', 'table': 'locations'},\n",
    "    {'dataset': 'fda_food', 'table': 'food_enforcement'},\n",
    "    {'dataset': 'fda_food', 'table': 'food_events'},\n",
    "    {'dataset': 'fcc_political_ads', 'table': 'broadcast_tv_radio_station'},\n",
    "    {'dataset': 'fcc_political_ads', 'table': 'content_info'},\n",
    "    {'dataset': 'fcc_political_ads', 'table': 'file_history'},\n",
    "    {'dataset': 'fcc_political_ads', 'table': 'file_record'},\n",
    "]\n",
    "\n"
   ]
  },
  {
   "cell_type": "markdown",
   "metadata": {},
   "source": [
    "### We're using a variable to generate missing table descriptions using Text Bison\n",
    "if True then generate missing table descriptions"
   ]
  },
  {
   "cell_type": "code",
   "execution_count": 32,
   "metadata": {},
   "outputs": [],
   "source": [
    "\n",
    "\n",
    "GENERATE_TABLE_DESCRIPTIONS = True\n"
   ]
  },
  {
   "cell_type": "markdown",
   "metadata": {},
   "source": [
    "### Function that sticks together dataset,table,field descriptions\n",
    "if GENERATE_TABLE_DESCRIPTIONS is true then missing table descriptions are generated in bison based on other descriptions"
   ]
  },
  {
   "cell_type": "code",
   "execution_count": 33,
   "metadata": {},
   "outputs": [],
   "source": [
    "def assemble_description(dataset_ref, table_ref,GENERATE_TABLE_DESCRIPTIONS):\n",
    "    table=bqclient.get_table(table_ref)\n",
    "    dataset=bqclient.get_dataset(dataset_ref)\n",
    "    description=f\"Dataset name: '{dataset_ref.dataset_id}', Dataset description:'{dataset.description}', Table name:\\\"{str(table_ref.table_id).replace('_',' ')}\\\", Table description:'{table.description}'\"\n",
    "    description=description + \"Schema attributes: \" + \",\".join([f\"column-name: {field.name}, column-type:\\\"{field.field_type}\\\" ,column-description: \\\"{field.description}\\\"\" for field in table.schema])\n",
    "    \n",
    "    if table.description is None:\n",
    "        returned_table_description=\"No description available\"\n",
    "    else:\n",
    "        returned_table_description=table.description\n",
    "        \n",
    "    if GENERATE_TABLE_DESCRIPTIONS and table.description is None:\n",
    "        parameters = {\n",
    "            \"temperature\": 0.9,  # Temperature controls the degree of randomness in token selection.\n",
    "            \"max_output_tokens\": 1000,  # Token limit determines the maximum amount of text output.\n",
    "            \"top_p\": 0.8,  # Tokens are selected from most probable to least until the sum of their probabilities equals the top_p value.\n",
    "            \"top_k\": 40,  # A top_k of 1 means the selected token is the most probable among all tokens.\n",
    "        }\n",
    "        model = TextGenerationModel.from_pretrained(\"text-bison@002\")\n",
    "        response = model.predict(\n",
    "            \"Please give brief description of a table that describes contents and purpose of the table for table users. Please do not describe or list attributes of a table only table general description. This is table schema:\" + description,\n",
    "            **parameters,\n",
    "        )\n",
    "        print(f\"Response from Model: {response.text}\")\n",
    "        description=f\"Dataset name: '{dataset_ref.dataset_id}', Dataset description:'{dataset.description}', Table name:\\\"{str(table_ref.table_id).replace('_',' ')}\\\", Table description:'{response.text}'\"\n",
    "        description=description + \"Schema attributes: \" + \",\".join([f\"column-name: {field.name}, column-type:\\\"{field.field_type}\\\" ,column-description: \\\"{field.description}\\\"\" for field in table.schema])\n",
    "        returned_table_description=response.text\n",
    "\n",
    "    return returned_table_description,description"
   ]
  },
  {
   "cell_type": "markdown",
   "metadata": {},
   "source": [
    "### Assemble table description\n",
    "Calling the above function for each table\n"
   ]
  },
  {
   "cell_type": "code",
   "execution_count": 34,
   "metadata": {},
   "outputs": [
    {
     "name": "stdout",
     "output_type": "stream",
     "text": [
      "Response from Model:  **Table: cycle hire**\n",
      "\n",
      "This table contains data about cycle hires in London. Each row represents a single hire. The data includes the duration of the hire, the bike ID, the bike model, the start and end dates and times, the start and end station IDs and names, and the end and start station logical terminal and priority IDs.\n",
      "\n",
      "This data can be used to analyze cycle hire patterns in London, such as which stations are most popular, which times of day are busiest, and how long people typically rent bikes for. It can also be used to track the performance of the cycle hire scheme and to identify areas for improvement.\n",
      "Response from Model:  The table 'cycle stations' in the 'london_bicycles' dataset contains information about bicycle stations in London. Each row represents a single station and provides details such as its unique ID, installation status, location (latitude and longitude), name, number of available bikes, number of available docks, number of empty docks, temporary status, terminal name, installation date, and removal date. This table can be useful for analyzing bicycle usage patterns, planning cycling infrastructure, and understanding the distribution of bicycle stations in London.\n",
      "Response from Model:  **Table: census adult income**\n",
      "\n",
      "**Description:** The census adult income table contains information about the age, work class, education level, marital status, occupation, relationship to household, race, gender, capital gains, capital losses, hours worked per week, native country, and income bracket of individuals.\n",
      "\n",
      "**Purpose:** This table can be used to analyze the relationship between various demographic factors and income bracket. It can also be used to study the distribution of income across different demographic groups.\n",
      "Response from Model: \n",
      "Response from Model:  **Table: iris**\n",
      "\n",
      "**Description**: This table contains measurements of the sepal and petal lengths and widths of iris flowers. The species of each flower is also included.\n",
      "\n",
      "**Purpose**: This table can be used to study the relationships between the different measurements of iris flowers and to classify the flowers into different species.\n",
      "Response from Model:  **Table name:** penguins\n",
      "\n",
      "**Dataset name:** ml_datasets\n",
      "\n",
      "**Description:** This table contains measurements of penguins, including their species, island of origin, culmen length and depth, flipper length, body mass, and sex.\n",
      "\n",
      "**Purpose:** This table can be used to study the relationships between different penguin species, their physical characteristics, and their habitats.\n",
      "Response from Model:  The table contains information about Citi Bike stations in New York City. Each row represents a single station and provides information such as its unique identifier, name, location, rental methods accepted, number of available bikes and docks, and whether the station is currently installed, renting, or returning bikes. This information can be useful for planning bike trips, finding available stations, and understanding the overall status of the Citi Bike system.\n",
      "Response from Model:  **Table Name**: citibike trips\n",
      "\n",
      "**Description**: This table contains information about Citi Bike trips in New York City. Each row represents a single trip.\n",
      "\n",
      "**Columns**:\n",
      "\n",
      "* tripduration: The duration of the trip in seconds.\n",
      "* starttime: The start time of the trip in NYC local time.\n",
      "* stoptime: The stop time of the trip in NYC local time.\n",
      "* start_station_id: The ID of the start station.\n",
      "* start_station_name: The name of the start station.\n",
      "* start_station_latitude: The latitude of the start station.\n",
      "* start_station_longitude: The longitude of the start station.\n",
      "* end_station_id: The ID of the end station.\n",
      "* end_station_name: The name of the end station.\n",
      "* end_station_latitude: The latitude of the end station.\n",
      "* end_station_longitude: The longitude of the end station.\n",
      "* bikeid: The ID of the bike used for the trip.\n",
      "* usertype: The type of user who took the trip (Customer or Subscriber).\n",
      "* birth_year: The year of birth of the user who took the trip.\n",
      "* gender: The gender of the user who took the trip (unknown, male, or female).\n",
      "* customer_plan: The name of the plan that determines the rate charged for the trip.\n",
      "Response from Model:  **\n",
      "Response from Model:  This table contains information about the locations of FDIC-insured financial institutions. Each row in the table represents a branch or office of a financial institution. The table dataset includes information such as the FDIC certificate number, institution name, branch name, branch number, main office indicator, branch address, city, zip code, county, county FIPS code, state, state name, institution class, Core Based Statistical Area (CBSA) FIPS code, CBSA name, CBSA division flag, CBSA division FIPS code, CBSA division name, CBSA metro flag, CBSA metro FIPS code, CBSA metro name, CBSA micro flag, Combined Statistical Area (CSA) flag, CSA FIPS code, CSA name, date established, FDIC UNINUM, last updated date, service type, and branch FDIC UNINUM. This table can be used to find information about the location of a specific financial institution or to research the financial institutions in a particular area\n",
      "Response from Model:  **Table Name: food enforcement**\n",
      "\n",
      "This table contains information about enforcement actions taken by the Food and Drug Administration (FDA) for food products. The table includes information such as the classification of the enforcement action, the date the enforcement report was issued, the date the recall was initiated, the recalling firm, the reason for the recall, and the status of the recall. This information can be used to monitor the safety of food products and to identify potential health risks.\n",
      "Response from Model:  The \"food events\" table in the \"fda_food\" dataset contains information related to adverse events associated with food products reported to the U.S. Food and Drug Administration (FDA). Each row in the table represents a unique adverse event report. The table includes details such as report numbers, reactions or symptoms experienced, outcomes or consequences of the event, product brand names, FDA industry codes and names, dates (event start date and report creation date), consumer demographics (gender and age), and product roles. This table serves as a valuable resource for researchers, regulators, and consumers interested in monitoring and analyzing adverse events associated with food products.\n"
     ]
    }
   ],
   "source": [
    "\n",
    "for i in table_list:\n",
    "    \n",
    "    \n",
    "    dataset_ref = bqclient.dataset(i['dataset'])\n",
    "    table_ref = dataset_ref.table(i['table'])\n",
    "    dataset=bqclient.get_dataset(dataset_ref)\n",
    "    table=bqclient.get_table(table_ref)\n",
    "    #print(assemble_description(dataset_ref, table_ref))\n",
    "    i['table_description'],i['description']=assemble_description(dataset_ref, table_ref,GENERATE_TABLE_DESCRIPTIONS)\n",
    "    #print(dataset_ref,table_ref)"
   ]
  },
  {
   "cell_type": "markdown",
   "metadata": {},
   "source": [
    "### Create embeddings from descriptions"
   ]
  },
  {
   "cell_type": "code",
   "execution_count": 35,
   "metadata": {},
   "outputs": [],
   "source": [
    "import chromadb\n",
    "from chromadb.utils import embedding_functions\n",
    "import langchain\n",
    "from langchain.embeddings import VertexAIEmbeddings\n",
    "from vertexai.language_models import TextEmbeddingModel"
   ]
  },
  {
   "cell_type": "code",
   "execution_count": 36,
   "metadata": {},
   "outputs": [],
   "source": [
    "\n",
    "chromaclient = chromadb.Client()\n",
    "collection = chromaclient.get_or_create_collection(\"my_tables\")\n"
   ]
  },
  {
   "cell_type": "markdown",
   "metadata": {},
   "source": [
    "## Load embeddings into vector database"
   ]
  },
  {
   "cell_type": "code",
   "execution_count": 37,
   "metadata": {},
   "outputs": [],
   "source": [
    "from chromadb import Documents, EmbeddingFunction, Embeddings\n",
    "from chromadb.utils import embedding_functions\n",
    "from langchain.vectorstores import Chroma\n",
    "from langchain.embeddings import VertexAIEmbeddings\n"
   ]
  },
  {
   "cell_type": "code",
   "execution_count": 38,
   "metadata": {},
   "outputs": [],
   "source": [
    "\n",
    "#VAIembeddings=VertexAIEmbeddings(model_name='textembedding-gecko@002')\n",
    "#model = TextEmbeddingModel.from_pretrained(\"textembedding-gecko@002\")\n"
   ]
  },
  {
   "cell_type": "markdown",
   "metadata": {},
   "source": [
    "### We're not calling embedding functions ourselves. \n",
    "We point ChromaDB to use Vertex Embeddings every time new document is loaded or every time a query to DB is made"
   ]
  },
  {
   "cell_type": "code",
   "execution_count": 39,
   "metadata": {},
   "outputs": [],
   "source": [
    "\n",
    "#for non english embeddings use model_name=textembedding-gecko-multilingual@001\n",
    "\n",
    "db=Chroma(client=chromaclient,collection_name='my_tables',embedding_function=VertexAIEmbeddings(model_name='textembedding-gecko@001',task_type=\"SEMANTIC_SIMILARITY\"))"
   ]
  },
  {
   "cell_type": "code",
   "execution_count": 40,
   "metadata": {},
   "outputs": [],
   "source": [
    "from langchain.docstore.document import Document\n",
    "\n",
    "\n",
    "for i in table_list:\n",
    "    doc=Document(page_content=i['description'],metadata={'dataset': i['dataset'],'table': i['table'],'table_description' : i['table_description']},id=i['table'])\n",
    "    db.add_documents( documents=[doc],                    \n",
    "                     ids=[i['table']]\n",
    "    )"
   ]
  },
  {
   "cell_type": "markdown",
   "metadata": {},
   "source": [
    "## Query the vector store"
   ]
  },
  {
   "cell_type": "markdown",
   "metadata": {},
   "source": [
    "db.similarity_search_with_relevance_scores(query=\"yummy\", k=5, threshold=0.5, return_relevance_scores=True)"
   ]
  },
  {
   "cell_type": "code",
   "execution_count": 41,
   "metadata": {},
   "outputs": [],
   "source": [
    "output=db.similarity_search_with_relevance_scores(query=\"bicycles\", k=5, threshold=0.5, return_relevance_scores=True)"
   ]
  },
  {
   "cell_type": "code",
   "execution_count": 42,
   "metadata": {},
   "outputs": [
    {
     "name": "stdout",
     "output_type": "stream",
     "text": [
      "(Document(page_content='Dataset name: \\'new_york_citibike\\', Dataset description:\\'None\\', Table name:\"citibike stations\", Table description:\\' The table contains information about Citi Bike stations in New York City. Each row represents a single station and provides information such as its unique identifier, name, location, rental methods accepted, number of available bikes and docks, and whether the station is currently installed, renting, or returning bikes. This information can be useful for planning bike trips, finding available stations, and understanding the overall status of the Citi Bike system.\\'Schema attributes: column-name: station_id, column-type:\"STRING\" ,column-description: \"Unique identifier of a station.\",column-name: name, column-type:\"STRING\" ,column-description: \"Public name of the station.\",column-name: short_name, column-type:\"STRING\" ,column-description: \"Short name or other type of identifier, as used by the data publisher.\",column-name: latitude, column-type:\"FLOAT\" ,column-description: \"The latitude of station. The field value must be a valid WGS 84 latitude in decimal degrees format.\",column-name: longitude, column-type:\"FLOAT\" ,column-description: \"The longitude of station. The field value must be a valid WGS 84 latitude in decimal degrees format.\",column-name: region_id, column-type:\"INTEGER\" ,column-description: \"ID of the region where station is located.\",column-name: rental_methods, column-type:\"STRING\" ,column-description: \"Array of enumerables containing the payment methods accepted at this station.\",column-name: capacity, column-type:\"INTEGER\" ,column-description: \"ANumber of total docking points installed at this station, both available and unavailable.\",column-name: eightd_has_key_dispenser, column-type:\"BOOLEAN\" ,column-description: \"\",column-name: num_bikes_available, column-type:\"INTEGER\" ,column-description: \"Number of bikes available for rental.\",column-name: num_bikes_disabled, column-type:\"INTEGER\" ,column-description: \"Number of disabled bikes at the station.\",column-name: num_docks_available, column-type:\"INTEGER\" ,column-description: \"Number of docks accepting bike returns.\",column-name: num_docks_disabled, column-type:\"INTEGER\" ,column-description: \"Number of empty but disabled dock points at the station.\",column-name: is_installed, column-type:\"BOOLEAN\" ,column-description: \"Is the station currently on the street?\",column-name: is_renting, column-type:\"BOOLEAN\" ,column-description: \"Is the station currently renting bikes?\",column-name: is_returning, column-type:\"BOOLEAN\" ,column-description: \"Is the station accepting bike returns?\",column-name: eightd_has_available_keys, column-type:\"BOOLEAN\" ,column-description: \"\",column-name: last_reported, column-type:\"TIMESTAMP\" ,column-description: \"Timestamp indicating the last time this station reported its status to the backend, in NYC local time.\"', metadata={'dataset': 'new_york_citibike', 'table': 'citibike_stations', 'table_description': ' The table contains information about Citi Bike stations in New York City. Each row represents a single station and provides information such as its unique identifier, name, location, rental methods accepted, number of available bikes and docks, and whether the station is currently installed, renting, or returning bikes. This information can be useful for planning bike trips, finding available stations, and understanding the overall status of the Citi Bike system.'}), 0.4854602309046958)\n",
      "(Document(page_content='Dataset name: \\'london_bicycles\\', Dataset description:\\'None\\', Table name:\"cycle stations\", Table description:\\' The table \\'cycle stations\\' in the \\'london_bicycles\\' dataset contains information about bicycle stations in London. Each row represents a single station and provides details such as its unique ID, installation status, location (latitude and longitude), name, number of available bikes, number of available docks, number of empty docks, temporary status, terminal name, installation date, and removal date. This table can be useful for analyzing bicycle usage patterns, planning cycling infrastructure, and understanding the distribution of bicycle stations in London.\\'Schema attributes: column-name: id, column-type:\"INTEGER\" ,column-description: \"None\",column-name: installed, column-type:\"BOOLEAN\" ,column-description: \"None\",column-name: latitude, column-type:\"FLOAT\" ,column-description: \"None\",column-name: locked, column-type:\"STRING\" ,column-description: \"None\",column-name: longitude, column-type:\"FLOAT\" ,column-description: \"None\",column-name: name, column-type:\"STRING\" ,column-description: \"None\",column-name: bikes_count, column-type:\"INTEGER\" ,column-description: \"None\",column-name: docks_count, column-type:\"INTEGER\" ,column-description: \"None\",column-name: nbEmptyDocks, column-type:\"INTEGER\" ,column-description: \"None\",column-name: temporary, column-type:\"BOOLEAN\" ,column-description: \"None\",column-name: terminal_name, column-type:\"STRING\" ,column-description: \"None\",column-name: install_date, column-type:\"DATE\" ,column-description: \"None\",column-name: removal_date, column-type:\"DATE\" ,column-description: \"None\"', metadata={'dataset': 'london_bicycles', 'table': 'cycle_stations', 'table_description': \" The table 'cycle stations' in the 'london_bicycles' dataset contains information about bicycle stations in London. Each row represents a single station and provides details such as its unique ID, installation status, location (latitude and longitude), name, number of available bikes, number of available docks, number of empty docks, temporary status, terminal name, installation date, and removal date. This table can be useful for analyzing bicycle usage patterns, planning cycling infrastructure, and understanding the distribution of bicycle stations in London.\"}), 0.4819397046485808)\n",
      "(Document(page_content='Dataset name: \\'london_bicycles\\', Dataset description:\\'None\\', Table name:\"cycle hire\", Table description:\\' **Table: cycle hire**\\n\\nThis table contains data about cycle hires in London. Each row represents a single hire. The data includes the duration of the hire, the bike ID, the bike model, the start and end dates and times, the start and end station IDs and names, and the end and start station logical terminal and priority IDs.\\n\\nThis data can be used to analyze cycle hire patterns in London, such as which stations are most popular, which times of day are busiest, and how long people typically rent bikes for. It can also be used to track the performance of the cycle hire scheme and to identify areas for improvement.\\'Schema attributes: column-name: rental_id, column-type:\"INTEGER\" ,column-description: \"\",column-name: duration, column-type:\"INTEGER\" ,column-description: \"Duration of the bike trip in seconds.\",column-name: duration_ms, column-type:\"INTEGER\" ,column-description: \"Duration of the bike trip in milliseconds.\",column-name: bike_id, column-type:\"INTEGER\" ,column-description: \"\",column-name: bike_model, column-type:\"STRING\" ,column-description: \"\",column-name: end_date, column-type:\"TIMESTAMP\" ,column-description: \"\",column-name: end_station_id, column-type:\"INTEGER\" ,column-description: \"\",column-name: end_station_name, column-type:\"STRING\" ,column-description: \"\",column-name: start_date, column-type:\"TIMESTAMP\" ,column-description: \"\",column-name: start_station_id, column-type:\"INTEGER\" ,column-description: \"\",column-name: start_station_name, column-type:\"STRING\" ,column-description: \"\",column-name: end_station_logical_terminal, column-type:\"INTEGER\" ,column-description: \"\",column-name: start_station_logical_terminal, column-type:\"INTEGER\" ,column-description: \"\",column-name: end_station_priority_id, column-type:\"INTEGER\" ,column-description: \"\"', metadata={'dataset': 'london_bicycles', 'table': 'cycle_hire', 'table_description': ' **Table: cycle hire**\\n\\nThis table contains data about cycle hires in London. Each row represents a single hire. The data includes the duration of the hire, the bike ID, the bike model, the start and end dates and times, the start and end station IDs and names, and the end and start station logical terminal and priority IDs.\\n\\nThis data can be used to analyze cycle hire patterns in London, such as which stations are most popular, which times of day are busiest, and how long people typically rent bikes for. It can also be used to track the performance of the cycle hire scheme and to identify areas for improvement.'}), 0.4743083433761073)\n",
      "(Document(page_content='Dataset name: \\'new_york_citibike\\', Dataset description:\\'None\\', Table name:\"citibike trips\", Table description:\\' **Table Name**: citibike trips\\n\\n**Description**: This table contains information about Citi Bike trips in New York City. Each row represents a single trip.\\n\\n**Columns**:\\n\\n* tripduration: The duration of the trip in seconds.\\n* starttime: The start time of the trip in NYC local time.\\n* stoptime: The stop time of the trip in NYC local time.\\n* start_station_id: The ID of the start station.\\n* start_station_name: The name of the start station.\\n* start_station_latitude: The latitude of the start station.\\n* start_station_longitude: The longitude of the start station.\\n* end_station_id: The ID of the end station.\\n* end_station_name: The name of the end station.\\n* end_station_latitude: The latitude of the end station.\\n* end_station_longitude: The longitude of the end station.\\n* bikeid: The ID of the bike used for the trip.\\n* usertype: The type of user who took the trip (Customer or Subscriber).\\n* birth_year: The year of birth of the user who took the trip.\\n* gender: The gender of the user who took the trip (unknown, male, or female).\\n* customer_plan: The name of the plan that determines the rate charged for the trip.\\'Schema attributes: column-name: tripduration, column-type:\"INTEGER\" ,column-description: \"Trip Duration (in seconds)\",column-name: starttime, column-type:\"DATETIME\" ,column-description: \"Start Time, in NYC local time.\",column-name: stoptime, column-type:\"DATETIME\" ,column-description: \"Stop Time, in NYC local time.\",column-name: start_station_id, column-type:\"INTEGER\" ,column-description: \"Start Station ID\",column-name: start_station_name, column-type:\"STRING\" ,column-description: \"Start Station Name\",column-name: start_station_latitude, column-type:\"FLOAT\" ,column-description: \"Start Station Latitude\",column-name: start_station_longitude, column-type:\"FLOAT\" ,column-description: \"Start Station Longitude\",column-name: end_station_id, column-type:\"INTEGER\" ,column-description: \"End Station ID\",column-name: end_station_name, column-type:\"STRING\" ,column-description: \"End Station Name\",column-name: end_station_latitude, column-type:\"FLOAT\" ,column-description: \"End Station Latitude\",column-name: end_station_longitude, column-type:\"FLOAT\" ,column-description: \"End Station Longitude\",column-name: bikeid, column-type:\"INTEGER\" ,column-description: \"Bike ID\",column-name: usertype, column-type:\"STRING\" ,column-description: \"User Type (Customer = 24-hour pass or 7-day pass user, Subscriber = Annual Member)\",column-name: birth_year, column-type:\"INTEGER\" ,column-description: \"Year of Birth\",column-name: gender, column-type:\"STRING\" ,column-description: \"Gender (unknown, male, female)\",column-name: customer_plan, column-type:\"STRING\" ,column-description: \"The name of the plan that determines the rate charged for the trip\"', metadata={'dataset': 'new_york_citibike', 'table': 'citibike_trips', 'table_description': ' **Table Name**: citibike trips\\n\\n**Description**: This table contains information about Citi Bike trips in New York City. Each row represents a single trip.\\n\\n**Columns**:\\n\\n* tripduration: The duration of the trip in seconds.\\n* starttime: The start time of the trip in NYC local time.\\n* stoptime: The stop time of the trip in NYC local time.\\n* start_station_id: The ID of the start station.\\n* start_station_name: The name of the start station.\\n* start_station_latitude: The latitude of the start station.\\n* start_station_longitude: The longitude of the start station.\\n* end_station_id: The ID of the end station.\\n* end_station_name: The name of the end station.\\n* end_station_latitude: The latitude of the end station.\\n* end_station_longitude: The longitude of the end station.\\n* bikeid: The ID of the bike used for the trip.\\n* usertype: The type of user who took the trip (Customer or Subscriber).\\n* birth_year: The year of birth of the user who took the trip.\\n* gender: The gender of the user who took the trip (unknown, male, or female).\\n* customer_plan: The name of the plan that determines the rate charged for the trip.'}), 0.4060194063141491)\n",
      "(Document(page_content='Dataset name: \\'ml_datasets\\', Dataset description:\\'None\\', Table name:\"iris\", Table description:\\' **Table: iris**\\n\\n**Description**: This table contains measurements of the sepal and petal lengths and widths of iris flowers. The species of each flower is also included.\\n\\n**Purpose**: This table can be used to study the relationships between the different measurements of iris flowers and to classify the flowers into different species.\\'Schema attributes: column-name: sepal_length, column-type:\"FLOAT\" ,column-description: \"\",column-name: sepal_width, column-type:\"FLOAT\" ,column-description: \"\",column-name: petal_length, column-type:\"FLOAT\" ,column-description: \"\",column-name: petal_width, column-type:\"FLOAT\" ,column-description: \"\",column-name: species, column-type:\"STRING\" ,column-description: \"\"', metadata={'dataset': 'ml_datasets', 'table': 'iris', 'table_description': ' **Table: iris**\\n\\n**Description**: This table contains measurements of the sepal and petal lengths and widths of iris flowers. The species of each flower is also included.\\n\\n**Purpose**: This table can be used to study the relationships between the different measurements of iris flowers and to classify the flowers into different species.'}), 0.4016716638623109)\n"
     ]
    }
   ],
   "source": [
    "for i in output:\n",
    "    print(i)"
   ]
  },
  {
   "cell_type": "code",
   "execution_count": 43,
   "metadata": {},
   "outputs": [
    {
     "name": "stdout",
     "output_type": "stream",
     "text": [
      "Running on local URL:  http://127.0.0.1:7862\n",
      "\n",
      "To create a public link, set `share=True` in `launch()`.\n"
     ]
    },
    {
     "data": {
      "text/html": [
       "<div><iframe src=\"http://127.0.0.1:7862/\" width=\"100%\" height=\"500\" allow=\"autoplay; camera; microphone; clipboard-read; clipboard-write;\" frameborder=\"0\" allowfullscreen></iframe></div>"
      ],
      "text/plain": [
       "<IPython.core.display.HTML object>"
      ]
     },
     "metadata": {},
     "output_type": "display_data"
    },
    {
     "data": {
      "text/plain": []
     },
     "execution_count": 43,
     "metadata": {},
     "output_type": "execute_result"
    }
   ],
   "source": [
    "import gradio as gr\n",
    "\n",
    "\n",
    "\n",
    "def search_items(query):\n",
    "    # Your search logic here\n",
    "    # Return the search results\n",
    "    \n",
    "    # For example, let's assume we have a list of items\n",
    "\n",
    "    # Filter the items based on the query\n",
    "    if query ==\"\":\n",
    "        query=\"banks are bad\"\n",
    "    results = db.similarity_search_with_relevance_scores(query=query, k=5, threshold=0.5, return_relevance_scores=True)\n",
    "    output=[]\n",
    "    for i in results:\n",
    "        output.append(i[0].metadata['dataset']+\".\"+i[0].metadata['table'])\n",
    "        output.append(i[0].metadata['table_description'])\n",
    "    update_show=[gr.Text(visible=True,value=x) for x in output]\n",
    "\n",
    "    return update_show\n",
    "\n",
    "result_tables_list = []\n",
    "\n",
    "\n",
    "with gr.Blocks() as demo:\n",
    "    search_phrase = gr.Textbox(label=\"Search phrase\",placeholder=\"Bicycles\")\n",
    "\n",
    "    with gr.Column():\n",
    "        for i in range(5):\n",
    "            with gr.Row():\n",
    "                table_field=gr.Text(show_label=False,visible=False)\n",
    "                description_field=gr.Textbox(show_label=False,visible=False)\n",
    "                result_tables_list.append(table_field)\n",
    "                result_tables_list.append(description_field)\n",
    "    search_phrase.change(search_items, search_phrase, result_tables_list)\n",
    "    greet_btn = gr.Button(\"Search\")\n",
    "\n",
    "    greet_btn.click()\n",
    "    greet_btn.click(search_items,search_phrase,result_tables_list)\n",
    "        \n",
    "\n",
    "demo.launch()"
   ]
  }
 ],
 "metadata": {
  "kernelspec": {
   "display_name": ".venv",
   "language": "python",
   "name": "python3"
  },
  "language_info": {
   "codemirror_mode": {
    "name": "ipython",
    "version": 3
   },
   "file_extension": ".py",
   "mimetype": "text/x-python",
   "name": "python",
   "nbconvert_exporter": "python",
   "pygments_lexer": "ipython3",
   "version": "3.9.6"
  }
 },
 "nbformat": 4,
 "nbformat_minor": 2
}
