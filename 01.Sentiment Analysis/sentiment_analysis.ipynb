{
  "cells": [
    {
      "cell_type": "markdown",
      "metadata": {},
      "source": [
        "# BigQuery IMDb Analysis Notebook\n",
        "\n",
        "This notebook demonstrates how to interact with the IMDb dataset using Google BigQuery from a Python environment.\n",
        "\n",
        "### Setup\n",
        "First, we need to install and import the necessary libraries and authenticate our Google Cloud account."
      ]
    },
    {
      "cell_type": "code",
      "metadata": {},
      "source": [
        "!pip install google-cloud-bigquery\n",
        "from google.cloud import bigquery\n",
        "from google.colab import auth"
      ],
      "execution_count": null,
      "outputs": []
    },
    {
      "cell_type": "markdown",
      "metadata": {},
      "source": [
        "### Authentication\n",
        "\n",
        "Authenticate your Google account to access BigQuery. Replace `'your_project_id'` with your actual Google Cloud project ID."
      ]
    },
    {
      "cell_type": "code",
      "metadata": {},
      "source": [
        "auth.authenticate_user()\n",
        "project_id = 'your_project_id'  # Replace with your actual project ID\n",
        "client = bigquery.Client(project=project_id)"
      ],
      "execution_count": null,
      "outputs": []
    },
    {
      "cell_type": "markdown",
      "metadata": {},
      "source": [
        "### Step 1: Assess the Data\n",
        "\n",
        "We will start by previewing a sample of movie titles and reviews from the IMDb dataset."
      ]
    },
    {
      "cell_type": "code",
      "metadata": {},
      "source": [
        "query_step_1 = \"\"\"\n",
        "SELECT a.original_title, b.review\n",
        "FROM `bigquery-public-data.imdb.reviews` b \n",
        "JOIN `bigquery-public-data.imdb.title_basics` a ON a.tconst = b.movie_id AND a.title_type = 'movie'\n",
        "LIMIT 100;\n",
        "\"\"\"\n",
        "df_step_1 = client.query(query_step_1).result().to_dataframe()\n",
        "df_step_1.head()"
      ],
      "execution_count": null,
      "outputs": []
    },
    {
      "cell_type": "markdown",
      "metadata": {},
      "source": [
        "### Step 2: Persist the Data\n",
        "\n",
        "Next, we will create a new table to store a subset of the movie reviews."
      ]
    },
    {
      "cell_type": "code",
      "metadata": {},
      "source": [
        "query_step_2 = \"\"\"\n",
        "CREATE OR REPLACE TABLE `hackaton.reviews` AS\n",
        "SELECT a.original_title, b.review\n",
        "FROM `bigquery-public-data.imdb.reviews` b \n",
        "JOIN `bigquery-public-data.imdb.title_basics` a ON a.tconst = b.movie_id AND a.title_type = 'movie'\n",
        "LIMIT 10;\n",
        "\"\"\"\n",
        "client.query(query_step_2)"
      ],
      "execution_count": null,
      "outputs": []
    },
    {
      "cell_type": "markdown",
      "metadata": {},
      "source": [
        "### Step 3: Create a BigQuery Connection\n",
        "\n",
        "This step involves setting up a connection in BigQuery UI. Follow the instructions provided in the BigQuery documentation: [Create a Connection](https://cloud.google.com/bigquery/docs/remote-functions#create_a_connection)."
      ]
    },
    {
      "cell_type": "markdown",
      "metadata": {},
      "source": [
        "### Step 4: Create BigQuery ML Model Endpoint\n",
        "\n",
        "Here, we'll create a BigQuery ML model endpoint. This requires prior setup of a BigQuery connection."
      ]
    },
    {
      "cell_type": "code",
      "metadata": {},
      "source": [
        "query_step_4 = \"\"\"\n",
        "CREATE OR REPLACE MODEL hackaton.llm_model REMOTE WITH CONNECTION `us.gcs-transactions` OPTIONS (endpoint = 'text-bison');\n",
        "\"\"\"\n",
        "client.query(query_step_4)"
      ],
      "execution_count": null,
      "outputs": []
    },
    {
      "cell_type": "markdown",
      "metadata": {},
      "source": [
        "### Step 5: Translate Reviews to Italian\n",
        "\n",
        "With the ML model endpoint ready, we'll now use it to translate movie reviews to Italian."
      ]
    },
    {
      "cell_type": "code",
      "metadata": {},
      "source": [
        "query_step_5 = \"\"\"\n",
        "SELECT original_title AS Titolo, review AS Review, a.ml_generate_text_llm_result AS Traduzione\n",
        "FROM ML.GENERATE_TEXT(\n",
        "    MODEL `hackaton.llm_model`,\n",
        "    (\n",
        "        SELECT p.*, CONCAT('Traduci questo testo in italiano: ', review) AS prompt\n",
        "        FROM hackaton.reviews p\n",
        "    ),\n",
        "    STRUCT(\n",
        "        0.2 AS temperature, 0.2 AS top_p, 15 AS top_k, TRUE AS flatten_json_output\n",
        "    )\n",
        ") a;\n",
        "\"\"\"\n",
        "client.query(query_step_5)"
      ],
      "execution_count": null,
      "outputs": []
    },
    {
      "cell_type": "markdown",
      "metadata": {},
      "source": [
        "### Step 6: Sentiment Analysis on Reviews\n",
        "\n",
        "Finally, we will perform sentiment analysis on the movie reviews using the ML model."
      ]
    },
    {
      "cell_type": "code",
      "metadata": {},
      "source": [
        "query_step_6 = \"\"\"\n",
        "SELECT original_title AS Titolo, review AS Review, a.ml_generate_text_llm_result AS Sentiment\n",
        "FROM ML.GENERATE_TEXT(\n",
        "    MODEL `hackaton.llm_model`,\n",
        "    (\n",
        "        SELECT p.*, CONCAT('Run a sentiment analysis on this text, and evaluate if it is either positive or negative; respond by simply saying 'positive' or 'negative'. Here is the text: ', review) AS prompt\n",
        "        FROM hackaton.reviews p\n",
        "    ),\n",
        "    STRUCT(\n",
        "        0.2 AS temperature, 0.2 AS top_p, 15 AS top_k, TRUE AS flatten_json_output\n",
        "    )\n",
        ") a;\n",
        "\"\"\"\n",
        "client.query(query_step_6)"
      ],
      "execution_count": null,
      "outputs": []
    },
    {
      "cell_type": "markdown",
      "metadata": {},
      "source": [
        "### Execution Notes\n",
        "\n",
        "Remember to replace your_project_id with your actual Google Cloud Project ID."
      ]
    }
  ],
  "metadata": {
    "kernelspec": {
      "name": "python3",
      "display_name": "Python 3"
    },
    "language_info": {
      "name": "python",
      "version": "3.7.10",
      "mimetype": "text/x-python",
      "codemirror_mode": {
        "name": "ipython",
        "version": 3
      },
      "pygments_lexer": "ipython3",
      "nbconvert_exporter": "python",
      "file_extension": ".py"
    }
  },
  "nbformat": 4,
  "nbformat_minor": 4
}
