{
  "cells": [
    {
      "cell_type": "markdown",
      "metadata": {
        "id": "k2vlowVCC4LH"
      },
      "source": [
        "# Explore Assistant\n",
        "This document provides instructions on how to install and customize the Explore Assistant demo. The demo is a web application that allows users to explore data in Looker by asking questions in natural language.\n",
        "\n",
        "DISCLAIMER : DO NOT INTENDED TO BE USED IN A PRODUCTION ENVIRONMENT"
      ]
    },
    {
      "cell_type": "code",
      "execution_count": null,
      "metadata": {
        "id": "vqNHMAkkCbwa"
      },
      "outputs": [],
      "source": [
        "# @title Setup : Installing Required Librairies\n",
        "#!pip install looker_sdk\n",
        "!pip install google-cloud-aiplatform --upgrade --user\n",
        "!pip install pandas\n",
        "!pip install -q gradio"
      ]
    },
    {
      "cell_type": "code",
      "execution_count": null,
      "metadata": {
        "id": "D3eVa448EmSb"
      },
      "outputs": [],
      "source": [
        "# Automatically restart kernel after installs so that your environment can access the new packages\n",
        "import IPython\n",
        "\n",
        "app = IPython.Application.instance()\n",
        "app.kernel.do_shutdown(True)"
      ]
    },
    {
      "cell_type": "markdown",
      "metadata": {
        "id": "Y1DpiR1VETP9"
      },
      "source": [
        "### Authenticating your notebook environment"
      ]
    },
    {
      "cell_type": "code",
      "execution_count": null,
      "metadata": {
        "id": "x_kXw0EIDkd3"
      },
      "outputs": [],
      "source": [
        "from google.colab import auth as google_auth\n",
        "google_auth.authenticate_user()"
      ]
    },
    {
      "cell_type": "markdown",
      "metadata": {
        "id": "P-lVxwmtEywE"
      },
      "source": [
        "### Import libraries\n"
      ]
    },
    {
      "cell_type": "code",
      "execution_count": null,
      "metadata": {
        "id": "JVaXeHqHE3Zk"
      },
      "outputs": [],
      "source": [
        "import urllib.parse\n",
        "import vertexai\n",
        "from vertexai.language_models import TextGenerationModel\n",
        "\n",
        "PROJECT_ID = \"data-analytics-386814\"  # @param {type:\"string\"}\n",
        "LOCATION = \"us-central1\" # @param {type:\"string\"}\n",
        "vertexai.init(project=PROJECT_ID, location=LOCATION)"
      ]
    },
    {
      "cell_type": "code",
      "execution_count": null,
      "metadata": {
        "colab": {
          "base_uri": "https://localhost:8080/"
        },
        "id": "jPe3ozloE9Er",
        "outputId": "c5351412-1d26-451d-8a02-55ceebc753ab"
      },
      "outputs": [
        {
          "name": "stdout",
          "output_type": "stream",
          "text": [
            "Gradio version: 4.12.0\n",
            "Vertex AI SDK version: 1.38.1\n"
          ]
        }
      ],
      "source": [
        "from google.cloud import aiplatform\n",
        "import gradio as gr\n",
        "from urllib.parse import urlparse, parse_qs\n",
        "import json\n",
        "\n",
        "# Print LangChain and Vertex AI versions\n",
        "print(f\"Gradio version: {gr.__version__}\")\n",
        "print(f\"Vertex AI SDK version: {aiplatform.__version__}\")"
      ]
    },
    {
      "cell_type": "markdown",
      "metadata": {
        "id": "p57Ozc20HH3F"
      },
      "source": []
    },
    {
      "cell_type": "markdown",
      "metadata": {
        "id": "AevRra6IHJWe"
      },
      "source": [
        "### Initiating Vertex AI"
      ]
    },
    {
      "cell_type": "code",
      "execution_count": null,
      "metadata": {
        "id": "cyHoBkETHMNO"
      },
      "outputs": [],
      "source": [
        "# Definig parameters to be used.\n",
        "parameters = {\n",
        "    \"candidate_count\": 1,\n",
        "    \"temperature\": 0.2,\n",
        "    \"max_output_tokens\": 100,\n",
        "    \"top_p\": 0.8,\n",
        "    \"top_k\": 40\n",
        "}\n",
        "\n",
        "model = TextGenerationModel.from_pretrained(\"text-bison\")"
      ]
    },
    {
      "cell_type": "markdown",
      "metadata": {
        "id": "KbqL9PfqIv9X"
      },
      "source": [
        "### Looker's Semantic Context and Examples\n",
        "Using the semantic layer as context for the LLM to extract the relevant field to build the query."
      ]
    },
    {
      "cell_type": "code",
      "execution_count": null,
      "metadata": {
        "id": "6Em7BbvhIWQ6"
      },
      "outputs": [],
      "source": [
        "# Default Base for Embedding the demo\n",
        "looker_base_url = \"https://ceworkshops.cloud.looker.com/embed/explore/thelookai/order_items?\"\n",
        "\n",
        "# Semantic Model Context : Result of the first Colab\n",
        "context = \"\"\"You\\'re a developer who would transalate questions to a structured URL query based on the following dicitonnary - choose only the fileds in the below description\n",
        "user_order_facts is an extension of user and should be used when referring to users or customers\n",
        "Dimensions Used to group by the information like age and dates :\n",
        "discounts.date_date:The date when the discount is valid.\n",
        "discounts.date_day_of_month:The day of the month when the discount is valid.\n",
        "discounts.date_day_of_week:The day of the week on which the discount is valid.\n",
        "discounts.date_day_of_week_index:The day of the week the discount is valid for.\n",
        "discounts.date_day_of_year:The day of the year the discount is valid.\n",
        "discounts.date_hour:The date and time when the discount is valid.\n",
        "discounts.date_hour_of_day:The date and hour of day when the discount is valid.\n",
        "discounts.date_minute:The minute of the day the discount is valid.\n",
        "discounts.date_month:The month in which the discount is valid.\n",
        "discounts.date_month_name:The month in which the discount is valid.\n",
        "discounts.date_month_num:The month in which the discount is valid.\n",
        "discounts.date_quarter:The quarter in which the discount was applied.\n",
        "discounts.date_quarter_of_year:The quarter of the year in which the discount was applied.\n",
        "discounts.date_raw:The date of the discount in ISO 8601 format.\n",
        "discounts.date_time:The date and time when the discount was created.\n",
        "discounts.date_time_of_day:The time of day when the discount is valid.\n",
        "discounts.date_week:The week in which the discount is valid.\n",
        "discounts.date_week_of_year:Week of the year the discount is valid.\n",
        "discounts.date_year:The year in which the discount was applied.\n",
        "discounts.discount_amount:The amount of money that is discounted from the price of an item.\n",
        "discounts.discount_price:The amount of money that is discounted from the original price.\n",
        "discounts.inventory_item_id:The ID of the inventory item that the discount applies to.\n",
        "discounts.pk:The primary key of the discounts table.\n",
        "discounts.product_id:The product that the discount applies to.\n",
        "discounts.retail_price:The price of the product before the discount is applied.\n",
        "distribution_centers.id:Unique identifier for a distribution center.\n",
        "distribution_centers.latitude:The latitude of the distribution center.\n",
        "distribution_centers.location:The location of the distribution center.\n",
        "distribution_centers.longitude:The longitude of the distribution center.\n",
        "distribution_centers.name:The name of the distribution center.\n",
        "inventory_items.cost:The cost of an inventory item, in dollars.\n",
        "inventory_items.created_time:The time when the inventory item was created.\n",
        "inventory_items.created_date:The date and time when the inventory item was created.\n",
        "inventory_items.created_week:The week in which the inventory item was created.\n",
        "inventory_items.created_month:The month in which the inventory item was created.\n",
        "inventory_items.created_raw:The date and time when the inventory item was created.\n",
        "inventory_items.days_in_inventory_tier:The number of days an inventory item has been in a particular inventory tier.\n",
        "inventory_items.days_since_arrival:Number of days since the inventory item was added to the inventory.\n",
        "inventory_items.days_since_arrival_tier:The number of days since the inventory item arrived in the warehouse.\n",
        "inventory_items.days_in_inventory:The number of days an inventory item has been in stock.\n",
        "inventory_items.id:Unique identifier for an inventory item.\n",
        "inventory_items.is_sold:Whether the item is sold or not.\n",
        "inventory_items.product_distribution_center_id:The ID of the distribution center where the product is stored.\n",
        "inventory_items.product_id:The unique identifier for a product in the inventory.\n",
        "inventory_items.sold_time:The time when an item was sold.\n",
        "inventory_items.sold_date:The date the item was sold.\n",
        "inventory_items.sold_week:The number of items sold in the past week.\n",
        "inventory_items.sold_month:The month in which the inventory item was sold.\n",
        "inventory_items.sold_raw:_count The number of items sold in their raw form.\n",
        "order_items.created_date:The date and time the order item was created.\n",
        "order_items.created_day_of_week:The day of the week when the order was created.\n",
        "order_items.created_hour:The hour when the order item was created.\n",
        "order_items.created_hour_of_day:The hour of the day when the order item was created.\n",
        "order_items.created_month:The month in which the order item was created.\n",
        "order_items.created_month_name:The month in which the order item was created.\n",
        "order_items.created_month_num:The month in which the order item was created.\n",
        "order_items.created_raw:The date and time the order item was created.\n",
        "order_items.created_time:The time when the order item was created.\n",
        "order_items.created_week:The week in which the order item was created.\n",
        "order_items.created_week_of_year:The week of the year in which the order item was created.\n",
        "order_items.created_year:The year in which the order item was created.\n",
        "order_items.days_since_sold:The number of days since the order item was sold.\n",
        "order_items.days_to_process:The number of days it takes to process an order item.\n",
        "order_items.delivered_date:The date and time when the order item was delivered to the customer.\n",
        "order_items.delivered_month:The month in which the order item was delivered.\n",
        "order_items.delivered_raw:Whether the order item has been delivered.\n",
        "order_items.delivered_week:The week in which the order item was delivered.\n",
        "order_items.gross_margin:The difference between the cost of an item and the price it is sold for.\n",
        "order_items.id:Unique identifier for each order item\n",
        "order_items.inventory_item_id:The unique identifier of the inventory item that was ordered.\n",
        "order_items.is_returned:Whether the order item has been returned by the customer.\n",
        "order_items.item_gross_margin_percentage:The percentage of the item\\'s price that is profit for the merchant.\n",
        "order_items.item_gross_margin_percentage_tier:The percentage of the item\\'s price that is profit for the seller.\n",
        "order_items.order_id:The unique identifier of the order that this order item belongs to.\n",
        "order_items.order_id_no_actions:Order ID before any actions have been taken on it.\n",
        "order_items.repeat_orders_within_15d:Number of repeat orders within 15 days\n",
        "order_items.reporting_period:The time period for which the order items were sold.\n",
        "order_items.returned_date:The date the customer returned the item.\n",
        "order_items.returned_month:The month in which the order item was returned.\n",
        "order_items.returned_raw:_quantity The number of items returned in the order.\n",
        "order_items.returned_time:The time when the customer returned the item.\n",
        "order_items.returned_week:The week in which the order item was returned.\n",
        "order_items.sale_price:The price of the item at the time of purchase.\n",
        "order_items.shipped_date:The date when the order item was shipped.\n",
        "order_items.shipped_month:The month in which the order item was shipped.\n",
        "order_items.shipped_raw:Whether the order item has been shipped.\n",
        "order_items.shipped_week:The week in which the order item was shipped.\n",
        "order_items.shipping_time:The estimated time it will take to ship the order.\n",
        "order_items.status:The status of the order item (e.g., \\\"prcoessing\\\", \\\"shipped\\\", \\\"delivered\\\", \\\"return\\\")\n",
        "order_items.user_id:The user who placed the order.\n",
        "order_facts.is_first_purchase:Indicates whether this is the customer\\'s first purchase\n",
        "order_facts.items_in_order:The number of items in an order.\n",
        "order_items.months_since_signup:Number of months since the customer signed up\n",
        "order_facts.order_amount:The total amount of money spent on the order.\n",
        "order_facts.order_cost:The total amount of money spent on an order.\n",
        "order_facts.order_gross_margin:The difference between the total revenue and the total cost of goods sold for an order.\n",
        "order_facts.order_id:The unique identifier for an order.\n",
        "order_facts.order_sequence_number:The order number assigned to a customer\\'s order.\n",
        "products.brand:The brand of the product.\n",
        "products.category:The category of the product.\n",
        "products.department:The department that the product belongs to.\n",
        "products.distribution_center_id:The ID of the distribution center where the product is stored.\n",
        "products.id:Unique identifier for a product\n",
        "products.item_name:The name of the product.\n",
        "products.retail_price:The price of the product in the store.\n",
        "products.sku:Stock Keeping Unit (SKU) is a unique identifier for a product.\n",
        "promo_email.gen_ai:_id The unique identifier for the generated AI-generated email.\n",
        "promo_email.id:Unique identifier for a promo email.\n",
        "promo_email.prompt:The subject line of the email.\n",
        "order_items.days_until_next_order:The number of days between the current order and the previous order.\n",
        "repeat_purchase_facts.has_subsequent_order:Whether the customer made a subsequent order after the first order.\n",
        "repeat_purchase_facts.next_order_raw:The date of the next order for a customer.\n",
        "repeat_purchase_facts.next_order_date:The date of the next order for a repeat customer.\n",
        "repeat_purchase_facts.next_order_id:The order ID of the next order placed by the customer.\n",
        "repeat_purchase_facts.number_subsequent_orders:Number of orders placed by a customer after their first order.\n",
        "repeat_purchase_facts.order_id:The unique identifier for an order.\n",
        "order_items.repeat_orders_within_30d:Number of repeat orders within 30 days\n",
        "promo_email.generated_text:The text of the email that is sent to the customer.\n",
        "users.promo_email:Email address for sending promotional emails\n",
        "users.age:The age of the user.\n",
        "users.age_tier:Age group of the user for marketing purposes\n",
        "users.approx_latitude:The approximate latitude of the user\\'s location.\n",
        "users.approx_location:The approximate location of the user, used for shipping and other purposes.\n",
        "users.approx_longitude:The approximate longitude of the user\\'s location.\n",
        "users.city:The city where the user lives.\n",
        "users.country:The country of residence of the user.\n",
        "users.created_date:The date and time when the user account was created.\n",
        "users.created_day_of_month:The day of the month the user was created.\n",
        "users.created_day_of_week:The day of the week on which the user was created.\n",
        "users.created_day_of_week_index:The day of the week on which the user was created.\n",
        "users.created_day_of_year:The day of the year the user was created.\n",
        "users.created_hour:The hour when the user was created.\n",
        "users.created_hour_of_day:The hour of day when the user was created.\n",
        "users.created_minute:The minute when the user was created.\n",
        "users.created_month:The month in which the user was created.\n",
        "users.created_month_num:The month in which the user was created.\n",
        "users.created_month_name:The month in which the user was created.\n",
        "users.created_quarter:The quarter in which the user was created.\n",
        "users.created_quarter_of_year:The quarter of the year in which the user was created.\n",
        "users.created_raw:The timestamp when the user was created.\n",
        "users.created_time:The date and time when the user account was created.\n",
        "users.created_time_of_day:The time of day when the user was created.\n",
        "users.created_week:The week in which the user was created.\n",
        "users.created_week_of_year:The week of the year when the user was created.\n",
        "users.created_year:The year in which the user account was created.\n",
        "user_order_facts.currently_active_customer:Whether the customer is still active or not.\n",
        "user_order_facts.days_as_customer:Number of days since the customer created their account.\n",
        "user_order_facts.days_as_customer_tiered:The number of days since the customer\\'s first order, rounded to the nearest day.\n",
        "user_order_facts.distinct_months_with_orders:Number of months in which a user has placed an order\n",
        "users.email:The email address of the user.\n",
        "users.first_name:The first name of the user.\n",
        "user_order_facts.first_order_date:The date of the first order placed by a user.\n",
        "user_order_facts.first_order_week:The week of the first order placed by a user.\n",
        "user_order_facts.first_order_month:The month of the first order placed by a user.\n",
        "user_order_facts.first_order_year:The year of the first order placed by a user.\n",
        "users.gender:The gender of the user.\n",
        "users.gender_short:Gender of the user, in short form.\n",
        "users.history:The history of all the products that a user has bought.\n",
        "users.id:Unique identifier for each user\n",
        "users.image_file:_name The file name of the user\\'s profile picture.\n",
        "users.last_name:The last name of the user.\n",
        "user_order_facts.latest_order_date:The date of the most recent order placed by a user or customer.\n",
        "user_order_facts.latest_order_week:The week of the latest order placed by the user or customer.\n",
        "user_order_facts.latest_order_month:The month of the most recent order for a user or customer.\n",
        "user_order_facts.latest_order_year:The year of the latest order placed by the user or customer.\n",
        "user_order_facts.lifetime_orders:Number of orders placed by a customer over their lifetime.\n",
        "user_order_facts.lifetime_orders_tier:The number of orders a customer has placed in their lifetime.\n",
        "user_order_facts.lifetime_revenue_tier:The customer\\'s lifetime revenue tier, based on the total amount of money they have spent on the company\\'s products or services.\n",
        "user_order_facts.lifetime_revenue:The total amount of money a customer or user has spent on the company\\'s products or services.\n",
        "users.location:The location of the user, used for shipping and tax purposes.\n",
        "users.name:The name of the user.\n",
        "users.over_21:Indicates whether the user is over 21 years old.\n",
        "user_order_facts.repeat_customer:Whether the customer or user has made a purchase before.\n",
        "users.ssn:Social Security number of the user.\n",
        "users.ssn_last_4:The last 4 digits of the user\\'s social security number.\n",
        "users.state:The state of the user\\'s address.\n",
        "users.traffic_source:The source of traffic that brought the user to the website.\n",
        "users.uk_postcode:UK postal code for the user.\n",
        "user_order_facts.user_id:The unique identifier of the user who placed the order.\n",
        "users.user_image:The image of the user.\n",
        "users.zip:code The zip code of the user\\'s address.\n",
        "Measures are used to perform calculation like revenue, margin, sales, count of orders\n",
        "discounts.average_discount:The average discount offered by a store on its products.\n",
        "discounts.count:Number of discounts available for a product.\n",
        "distribution_centers.location_latitude_max:The maximum latitude of the distribution center\\'s location.\n",
        "distribution_centers.location_latitude_min:The minimum latitude of the distribution center\\'s location.\n",
        "distribution_centers.location_longitude_max:The maximum longitude of all distribution centers.\n",
        "distribution_centers.location_longitude_min:The minimum longitude of the distribution center\\'s location.\n",
        "inventory_items.average_cost:The average cost of an inventory item.\n",
        "inventory_items.count:Number of items in the inventory.\n",
        "inventory_items.number_on_hand:The number of items in stock for a given product.\n",
        "inventory_items.sold_count:The number of times this item has been sold.\n",
        "inventory_items.sold_percent:Percentage of inventory items sold in a given time period.\n",
        "inventory_items.stock_coverage_ratio:The number of days of inventory on hand, based on the average daily sales.\n",
        "inventory_items.total_cost:The total cost of an inventory item, including the cost of the item itself and any associated shipping or handling charges.\n",
        "order_items.average_days_to_process:Average number of days it takes to process an order item.\n",
        "order_items.average_gross_margin:The average gross margin for a product in an order.\n",
        "order_items.average_sale_price:The average price of all items in an order.\n",
        "order_items.average_shipping_time:The average time it takes to ship an order item.\n",
        "order_items.average_spend_per_user:The average amount of money spent by each customer.\n",
        "order_items.count:Number of items in an order\n",
        "order_items.count_last_28d:Number of items ordered in the last 28 days\n",
        "order_items.median_sale_price:The median price of an item in an order.\n",
        "order_items.return_rate:The percentage of items in an order that are returned.\n",
        "order_items.returned_count:Number of times an item was returned.\n",
        "order_items.returned_total_sale_price:The total amount of money refunded for the returned items.\n",
        "order_items.total_gross_margin:The total amount of money made on the sale of an item after deducting the cost of the item.\n",
        "order_items.total_gross_margin_percentage:The percentage of the order price that is profit for the seller.\n",
        "order_items.total_sale_price:The total price of the items in the order.\n",
        "order_items.first_purchase_count:Number of items purchased for the first time by a customer.\n",
        "order_items.order_count:Number of orders for this item.\n",
        "products.brand_count:Number of brands that sell this product.\n",
        "products.category_count:Number of categories a product belongs to.\n",
        "products.count:Number of products in the catalog.\n",
        "products.department_count:Number of departments that the product belongs to.\n",
        "products.prefered_brands:The brands that are most popular with customers for this product.\n",
        "products.prefered_categories:The categories that a product is most likely to be found in.\n",
        "order_items.30_day_repeat_purchase_rate:The percentage of customers who purchased the same item again within 30 days.\n",
        "order_items.count_with_repeat_purchase_within_30d:Number of times an item was purchased again within 30 days of the first purchase\n",
        "user_order_facts.active_user_count:Number of active users who placed orders in the given time period.\n",
        "users.approx_location_latitude_min:The minimum latitude of the user\\'s approximate location.\n",
        "users.approx_location_latitude_max:The maximum latitude of the user\\'s approximate location.\n",
        "users.approx_location_longitude_min:The minimum longitude of the user\\'s approximate location.\n",
        "users.approx_location_longitude_max:The maximum longitude of the user\\'s approximate location.\n",
        "users.average_age:The average age of users who have purchased from the company.\n",
        "user_order_facts.average_lifetime_revenue:Average revenue per user over their lifetime.\n",
        "user_order_facts.average_lifetime_orders:Average number of orders per customer over their lifetime.\n",
        "users.count:Number of users registered in the system.\n",
        "users.count_percent_of_total:Percentage of total users who have made a purchase.\n",
        "users.location_latitude_min:The minimum latitude of the user\\'s location.\n",
        "users.location_latitude_max:The maximum latitude of the user\\'s location.\n",
        "users.location_longitude_min:The minimum longitude of the user\\'s location.\n",
        "users.location_longitude_max:The maximum longitude of the user\\'s location.\n",
        "\n",
        "\n",
        "input: customer with lifetime revenue > 100\n",
        "output :fields=user_order_facts.lifetime_revenue&f[user_order_facts.lifetime_revenue]=>100&sorts=user_order_facts.lifetime_revenue desc 0&limit=500\n",
        "\n",
        "input : Customer who are currently active and made an order in the last day 30 days\n",
        "output :fields=users.email,order_items.created_date&f[user_order_facts.currently_active_customer]=Yes&f[order_items.created_date]=last 30 days&sorts=order_items.created_date desc\n",
        "\n",
        "\n",
        "input: What s the total sales of brand Calvin Klein?\n",
        "output:fields=order_items.total_sale_price&f[products.brand]=Calvin Klein&vis={\"type\":\"single_value\"}\n",
        "\n",
        "input: Orders that are still in Processing after 3 days, filtered by Distribution Center\n",
        "output:fields=order_items.created_date,order_items.order_id,products.item_name,order_items.status,users.email,order_items.average_days_to_process&f[distribution_centers.name]=Chicago IL&f[order_items.created_date]=before 3 days ago&f[order_items.status]=Processing&sorts=order_items.created_date desc&column_limit=50&vis={\"type\":\"looker_grid\"}\n",
        "\n",
        "input: What\\'s my sales for the last two years ? plot as bar chart\n",
        "output:fields=order_items.total_sale_price&f[order_items.created_date]=2 years&sorts=order_items.total_sale_price descvis={\"type\":\"looker_bar\"}\n",
        "\n",
        "input: Severely delayed orders in Chicaco\n",
        "output:fields=order_items.created_date,order_items.order_id,products.item_name,order_items.status,users.email,order_items.average_days_to_process&f[distribution_centers.name]=Chicago IL&f[order_items.created_date]=before 3 days ago&f[order_items.status]=Processing&column_limit=50\n",
        "\n",
        "input: 30 Day Repeat Purchase Rate by Brand, column chart\n",
        "output:fields=order_items.30_day_repeat_purchase_rate,products.brand&f[products.brand]=&sorts=order_items.30_day_repeat_purchase_rate desc 0&limit=500&vis={\"type\":\"looker_column\"}\n",
        "\n",
        "input: Top 10 Brand by Sales\n",
        "output:fields=products.brand,order_items.total_sale_price&sorts=order_items.total_sale_price desc 0&limit=10&column_limit=50\n",
        "\n",
        "input: What\\'s my sales for last 4 months by category ? plot as area\n",
        "output:fields=products.category,order_items.total_sale_price&f[order_items.created_date]=4 months&limit=500&vis={\"type\":\"single_value\"}\n",
        "\n",
        "input: repeat purchase rate by category, plot as  pie\n",
        "output:fields=order_items.30_day_repeat_purchase_rate,products.category&vis={\"type\":\"looker_pie\"}\n",
        "\n",
        "input: average order sales by category, as bar chart\n",
        "output:fields=order_items.average_sale_price,products.category&vis={\"type\":\"looker_bar\"}\n",
        "\n",
        "input: users whith lifetime value > 100$ and made more than 4 orders, as table\n",
        "output:fields=users.lifetime_revenue,users.lifetime_orders&f[users.lifetime_revenue]=>100&f[users.lifetime_orders]=>4&sorts=users.lifetime_revenue desc 0&vis={\"type\":\"looker_grid\"}\n",
        "\n",
        "input: sales for Columbia, Levi's and Nike this year, as bar chart\n",
        "output:fields=products.brand,order_items.total_sale_price&f[products.brand]=Columbia,\"Levi's\", Nike&f[order_items.created_date]=this year&sorts=order_items.total_sale_price desc 0&limit=500&column_limit=50&vis={\"type\":\"looker_bar\"}\n",
        "\n",
        "input: number of orders this years vs last year\n",
        "output:fields=order_items.count,order_items.created_year,order_items.created_month_name&pivots=order_items.created_year&f[order_items.created_year]=this year, last year&sorts=order_items.created_year desc,order_items.count desc 0&limit=5000&column_limit=50\n",
        "\n",
        "input : users by traffic source\n",
        "output:fields=users.traffic_source,users.count&sorts=users.count desc 0&limit=500\n",
        "\n",
        "input : customers who likes columbia or levi's\n",
        "output :fields=users.email,products.brand,order_items.total_sale_price&f[products.brand]=Columbia, Levi's&sorts=order_items.total_sale_price desc 0&limit=500\n",
        "\n",
        "input : Last week's revenue by category and department\n",
        "output :fields=products.category,products.department,order_items.total_sale_price&pivots=products.department&order_items.created_year&f[order_items.created_date]=last week&sorts=order_items.total_sale_price desc 0&limit=500&column_limit=50\n",
        "\n",
        "input : Sales performance by state, on a map\n",
        "output :fields=order_items.order_count,users.count,order_items.total_sale_price,order_items.average_spend_per_user,users.state&f[order_items.created_date]=90 days&sorts=order_items.total_sale_price desc&limit=500&column_limit=50&vis={\"type\" : \"looker_google_map\"}\n",
        "\n",
        "input : Who are the customer with highest revenue in New York?\n",
        "output :fields=users.email,user_order_facts.lifetime_revenue&f[users.state]=New York&sorts=user_order_facts.lifetime_revenue desc 0&limit=500=vis_config={\"type\" : \"looker_grid\"}\n",
        "\n",
        "input : Customers who made a purchase in last 6 month or acquired from facebook,\n",
        "output :fields=users.email&filter_expression=matches_filter(${order_items.created_date}, `6 months`) OR matches_filter(${users.traffic_source}, `Facebook`)\n",
        "\n",
        "input : Items in Pants or  part of first purchase order\n",
        "output :fields=products.item_name,order_items.count&filter_expression=matches_filter(${order_facts.is_first_purchase}, `Yes`) OR matches_filter(${products.category}, `Pants`)\n",
        "\n",
        "input : Customer who made last 6 month or acquired from facebook and purchased from brand Levi's\n",
        "output :fields=products.item_name,order_items.count&filter_expression=matches_filter(${order_items.created_date}, `6 months`) OR matches_filter(${users.traffic_source}, `Facebook`) AND matches_filter(${products.brand}, `Levi's`)\n",
        "\n",
        "input: Customer who haven't made an order in the last 6 months OR purchased Levi's in the last 3 months\n",
        "output:fields=users.email&filter_expression=NOT matches_filter(${order_items.created_date}, `6 months`) OR matches_filter(${products.brand}, `Levi's`) AND matches_filter(${order_items.created_date}, `3 months`)\n",
        "\n",
        "input: Compare number of items ordered by category for Accessories and the rest as bar chart\n",
        "output: fields=order_items.count,category_benchmark&sorts=order_items.count desc 0&limit=500&column_limit=50&query_timezone=user_timezone&vis={\\\"type\\\":\\\"looker_bar\\\"}&dynamic_fields=[{\\\"category\\\":\\\"dimension\\\",\\\"description\\\":\\\"\\\",\\\"label\\\":\\\"Category Benchmark\\\",\\\"calculation_type\\\":\\\"group_by\\\",\\\"dimension\\\":\\\"category_benchmark\\\",\\\"args\\\":[\\\"products.category\\\",[{\\\"label\\\":\\\"Accessories\\\",\\\"filter\\\":\\\"Accessories\\\"}],\\\"Other\\\"]}]\n",
        "\n",
        "input: compare sales for brand Calvin Klein vs the rest ?\n",
        "output: fields=order_items.total_sale_price,brand_benchmark&sorts=order_items.total_sale_price desc 0&limit=500&column_limit=50&query_timezone=user_timezone&vis={\\\"type\\\":\\\"looker_bar\\\"}&dynamic_fields=[{\\\"brand\\\":\\\"dimension\\\",\\\"description\\\":\\\"\\\",\\\"label\\\":\\\"Brand Benchmark\\\",\\\"calculation_type\\\":\\\"group_by\\\",\\\"dimension\\\":\\\"brand_benchmark\\\",\\\"args\\\":[\\\"products.brand\\\",[{\\\"label\\\":\\\"Calvin Klein\\\",\\\"filter\\\":\\\"Calvin Klein\\\"}],\\\"Other\\\"]}]\n",
        "\n",
        "\n",
        "input: sales by Levi\\'s, Calvin Klein and the rest ? break down by date for the last 7 days\n",
        "output: fields=order_items.total_sale_price,brand_benchmark,order_items.created_date&pivots=brand_benchmark&f[order_items.created_date]=7 days&sorts=order_items.created_date desc 0&dynamic_fields=[{\\\"brand\\\":\\\"dimension\\\",\\\"description\\\":\\\"\\\",\\\"label\\\":\\\"Brand Benchmark\\\",\\\"calculation_type\\\":\\\"group_by\\\",\\\"dimension\\\":\\\"brand_benchmark\\\",\\\"args\\\":[\\\"products.brand\\\",[{\\\"label\\\":\\\"Levi\\'s\\\",\\\"filter\\\":\\\"Levi\\'s\\\"},{\\\"label\\\":\\\"Calvin Klein\\\",\\\"filter\\\":\\\"Calvin Klein\\\"}],\\\"Other\\\"]}]\n",
        "\n",
        "input: compare the number of users acquired by category from Facebook and the rest ? as line chart\n",
        "output: fields=users.count,user_acquisition_source_benchmark,products.category&pivots=user_acquisition_source_benchmark&sorts=user_acquisition_source_benchmark,users.count desc 0&dynamic_fields=[{\\\"label\\\":\\\"User Acquisition Source Benchmark\\\",\\\"calculation_type\\\":\\\"group_by\\\",\\\"dimension\\\":\\\"user_acquisition_source_benchmark\\\",\\\"args\\\":[\\\"users.traffic_source\\\",[{\\\"label\\\":\\\"Facebook\\\",\\\"filter\\\":\\\"Facebook\\\"}],\\\"Other\\\"]}]\n",
        "\n",
        "\n",
        "input: compare number of orders in the morning, afternoon and the rest of the day\n",
        "output: fields=order_items.count,time_of_day&vis={\\\"type\\\":\\\"looker_bar\\\"}&dynamic_fields=[{\\\"label\\\":\\\"Time of Day\\\",\\\"calculation_type\\\":\\\"group_by\\\",\\\"dimension\\\":\\\"time_of_day\\\",\\\"args\\\":[\\\"order_items.created_hour_of_day\\\",[{\\\"label\\\":\\\"Morning\\\",\\\"filter\\\":\\\"[0,11]\\\"},{\\\"label\\\":\\\"Afternoon\\\",\\\"filter\\\":\\\"[12,17]\\\"}],\\\"Other\\\"]}]\n",
        "\n",
        "\n",
        "input: compare sales in the morning vs evening in the last 7 days ?\n",
        "output: fields=order_items.total_sale_price,time_of_day&f[order_items.created_date]=7 days&sorts=order_items.total_sale_price desc 0&dynamic_fields=[{\\\"label\\\":\\\"Time of Day\\\",\\\"calculation_type\\\":\\\"group_by\\\",\\\"dimension\\\":\\\"time_of_day\\\",\\\"args\\\":[\\\"order_items.created_hour_of_day\\\",[{\\\"label\\\":\\\"Morning\\\",\\\"filter\\\":\\\"[0,11]\\\"},{\\\"label\\\":\\\"Evening\\\",\\\"filter\\\":\\\"[18,23]\\\"}]]}]\n",
        "\"\"\""
      ]
    },
    {
      "cell_type": "markdown",
      "metadata": {
        "id": "w3-l-ByzJVrA"
      },
      "source": [
        "### Applications Functions\n",
        "Function that would be used later by Gradio interface in order to render the results from Looker."
      ]
    },
    {
      "cell_type": "code",
      "execution_count": null,
      "metadata": {
        "id": "KA8ZV1u_JhA-"
      },
      "outputs": [],
      "source": [
        "# Savings Logs to further train the model.\n",
        "def save_logs(input_text, output_text, filename):\n",
        "    formatted_input_text = json.dumps(input_text)[1:-1]\n",
        "    formatted_output_text = json.dumps(output_text)[1:-1]\n",
        "\n",
        "    with open(filename, 'a') as file:\n",
        "        line = f'{{\"input_text\": \"{formatted_input_text}\", \"output_text\": \"{formatted_output_text}\"}}\\n'\n",
        "        file.write(line)\n",
        "\n",
        "    return True\n",
        "\n",
        "# Define a function to process the search query and return results\n",
        "def search(query):\n",
        "    # Formatting prompt\n",
        "    llm = \"\"\"\n",
        "    input: {}\n",
        "    output: \"\"\".format(query)\n",
        "    # Building the prompt\n",
        "    predict = context + llm\n",
        "    # Retrieving Results from Model\n",
        "    response =  model.predict(predict,**parameters).text\n",
        "    response = response.strip()\n",
        "    # Saving Logs\n",
        "    if save_logs(query, response, \"logs.jsonl\"):\n",
        "            print(\"Logs Saved Correctly\")\n",
        "    # Percent Encoding\n",
        "    query_url = urllib.parse.quote(response, safe=':/?&=,[]{}')\n",
        "    # Building the Embedded URL\n",
        "    url = f\"{looker_base_url}{query_url}&toggle=dat,pik,vis&allow_login_screen=true\"\n",
        "    print(url)\n",
        "    return f'<iframe src=\"{url}\" style=\"width:100%; height:600px;\"></iframe>'\n",
        "\n",
        "\n"
      ]
    },
    {
      "cell_type": "markdown",
      "metadata": {
        "id": "-PgF09TVJx6q"
      },
      "source": [
        "## Running the demo"
      ]
    },
    {
      "cell_type": "code",
      "execution_count": null,
      "metadata": {
        "colab": {
          "background_save": true,
          "base_uri": "https://localhost:8080/",
          "height": 784
        },
        "id": "AA6JyurEJ60h",
        "outputId": "c487ac98-678c-421f-b8a8-aea5d3e60824"
      },
      "outputs": [
        {
          "name": "stdout",
          "output_type": "stream",
          "text": [
            "Setting queue=True in a Colab notebook requires sharing enabled. Setting `share=True` (you can turn this off by setting `share=False` in `launch()` explicitly).\n",
            "\n",
            "Colab notebook detected. This cell will run indefinitely so that you can see errors and logs. To turn off, set debug=False in launch().\n",
            "Running on public URL: https://b292ac034752ad0b8a.gradio.live\n",
            "\n",
            "This share link expires in 72 hours. For free permanent hosting and GPU upgrades, run `gradio deploy` from Terminal to deploy to Spaces (https://huggingface.co/spaces)\n"
          ]
        },
        {
          "data": {
            "text/html": [
              "<div><iframe src=\"https://b292ac034752ad0b8a.gradio.live\" width=\"100%\" height=\"500\" allow=\"autoplay; camera; microphone; clipboard-read; clipboard-write;\" frameborder=\"0\" allowfullscreen></iframe></div>"
            ],
            "text/plain": [
              "<IPython.core.display.HTML object>"
            ]
          },
          "metadata": {},
          "output_type": "display_data"
        },
        {
          "name": "stdout",
          "output_type": "stream",
          "text": [
            "Logs Saved Correctly\n",
            "https://ceworkshops.cloud.looker.com/embed/explore/thelookai/order_items?fields=products.item_name,order_items.total_sale_price&f[products.brand]=Levi%27s&f[order_items.created_date]=2023&f[distribution_centers.name]=Los%20Angeles%20CA&sorts=order_items.total_sale_price%20desc%200&vis={%22type%22:%22looker_grid%22}&toggle=dat,pik,vis&allow_login_screen=true\n",
            "Logs Saved Correctly\n",
            "https://ceworkshops.cloud.looker.com/embed/explore/thelookai/order_items?fields=products.item_name,order_items.count&f[products.brand]=Levi%27s&f[order_items.created_year]=2023&f[distribution_centers.name]=Los%20Angeles%20CA&sorts=order_items.count%20desc%200&limit=500&vis={%22type%22:%22looker_grid%22}&toggle=dat,pik,vis&allow_login_screen=true\n",
            "Logs Saved Correctly\n",
            "https://ceworkshops.cloud.looker.com/embed/explore/thelookai/order_items?fields=products.item_name,order_items.count&filter_expression=matches_filter%28%24{products.brand},%20%60Levi%27s%60%29&toggle=dat,pik,vis&allow_login_screen=true\n",
            "Logs Saved Correctly\n",
            "https://ceworkshops.cloud.looker.com/embed/explore/thelookai/order_items?fields=users.email,products.brand,order_items.total_sale_price&f[products.brand]=Columbia,%20Levi%27s&sorts=order_items.total_sale_price%20desc%200&limit=500&toggle=dat,pik,vis&allow_login_screen=true\n"
          ]
        }
      ],
      "source": [
        "# Create the Gradio app with custom layout\n",
        "with gr.Blocks(theme=gr.themes.Soft()) as demo:\n",
        "    gr.Markdown(\n",
        "    \"\"\"\n",
        "    # Explore Assistant\n",
        "\n",
        "    \"\"\")\n",
        "    with gr.Row():\n",
        "        with gr.Column(scale=10) :\n",
        "            search_input = gr.Textbox(label=\"Type your question and press Enter\", lines=1, placeholder=\"Sales this week ?\")\n",
        "    with gr.Row():\n",
        "        search_results = gr.HTML()\n",
        "        search_input.submit(search, inputs=search_input, outputs=search_results)\n",
        "\n",
        "if __name__ == \"__main__\":\n",
        "    demo.launch(debug=True)"
      ]
    },
    {
      "cell_type": "markdown",
      "metadata": {
        "id": "ENVhL21XOX5v"
      },
      "source": [
        "## Showing Logs Saved"
      ]
    },
    {
      "cell_type": "code",
      "execution_count": null,
      "metadata": {
        "id": "8DDmCQW4ObqA"
      },
      "outputs": [],
      "source": [
        "# Define the path to your logs.jsonl file\n",
        "jsonl_file_path = 'logs.jsonl'\n",
        "\n",
        "# Read the JSON Lines file and process each line\n",
        "with open(jsonl_file_path, 'r') as file:\n",
        "    for line in file:\n",
        "        # Load the line as a JSON object\n",
        "        json_data = json.loads(line)\n",
        "\n",
        "        # Extract the input and output strings\n",
        "        input_string = json_data.get('input_text', '')\n",
        "        output_string = json_data.get('output_text', '')\n",
        "\n",
        "        # Format and print the data\n",
        "        print(f'input: {input_string}')\n",
        "        print(f'output: {output_string}')\n",
        "        print()"
      ]
    }
  ],
  "metadata": {
    "colab": {
      "collapsed_sections": [
        "Y1DpiR1VETP9",
        "P-lVxwmtEywE",
        "AevRra6IHJWe",
        "KbqL9PfqIv9X",
        "ENVhL21XOX5v"
      ],
      "provenance": []
    },
    "kernelspec": {
      "display_name": "Python 3",
      "name": "python3"
    },
    "language_info": {
      "name": "python"
    }
  },
  "nbformat": 4,
  "nbformat_minor": 0
}