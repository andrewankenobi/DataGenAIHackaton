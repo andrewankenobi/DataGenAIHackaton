{
  "cells": [
    {
      "cell_type": "markdown",
      "metadata": {
        "id": "D_XJcxqx22uj"
      },
      "source": [
        "## Generating Context  form a Looker Explore\n",
        "\n",
        "Use this colab to generate context  + examples from an existing Looker Explore. Make sure to connect to your Looker Instance first, Run Setup, Connect to Looker and Python Functions. Finally Run the Gradio App to use the interface.\n",
        "\n",
        "DISCLAIMER: THIS IS SAMPLE CODE ONLY, IT IS NOT INTENDED FOR USE IN PRODUCTION ENVIRONMENTS"
      ]
    },
    {
      "cell_type": "code",
      "source": [
        "# @title Setup\n",
        "!pip install looker_sdk\n",
        "!pip install pandas\n",
        "!pip install -q gradio"
      ],
      "metadata": {
        "id": "FNA42y-1ZHa3"
      },
      "execution_count": null,
      "outputs": []
    },
    {
      "cell_type": "code",
      "source": [
        "#@title Connect to Looker\n",
        "import looker_sdk\n",
        "import requests\n",
        "import pandas as pd\n",
        "import urllib3\n",
        "import os\n",
        "import yaml\n",
        "import string\n",
        "import random\n",
        "import time\n",
        "import gradio as gr\n",
        "urllib3.disable_warnings(urllib3.exceptions.InsecureRequestWarning)\n",
        "\n",
        "os.environ['LOOKERSDK_BASE_URL'] = 'https://ceworkshops.looker.com' # @param {type:\"string\"}\n",
        "os.environ['LOOKERSDK_CLIENT_ID'] = 'CLIENT_ID' #@param {type:\"string\"}\n",
        "os.environ['LOOKERSDK_CLIENT_SECRET'] = 'CLIENT_SECRET' #@param {type:\"string\"}\n",
        "os.environ['LOOKERSDK_VERIFY_SSL']= 'False'\n",
        "os.environ['LOOKERSDK_API_VERSION']= '4.0'\n",
        "os.environ[\"LOOKERSDK_TIMEOUT\"] = \"120\"\n",
        "\n",
        "sdk = looker_sdk.init40()"
      ],
      "metadata": {
        "id": "uT1fseDgxuG5"
      },
      "execution_count": 4,
      "outputs": []
    },
    {
      "cell_type": "code",
      "execution_count": 6,
      "metadata": {
        "id": "PKqTxUddYucH"
      },
      "outputs": [],
      "source": [
        "#@title Python Functions : can be used independepntly.\n",
        "def get_dict(model_name, explore_name):\n",
        "    # API Call to pull in metadata about fields in a particular explore\n",
        "    explore = sdk.lookml_model_explore(\n",
        "        lookml_model_name=model_name,\n",
        "        explore_name=explore_name,\n",
        "        fields=\"id, name, description, fields, label\",\n",
        "    )\n",
        "\n",
        "    measures = []\n",
        "    dimensions = []\n",
        "\n",
        "    # Iterate through the dimensions and measures in the explore\n",
        "    if explore.fields and explore.fields.dimensions:\n",
        "        for dimension in explore.fields.dimensions:\n",
        "          if not dimension.hidden:\n",
        "            def_dimension = {\n",
        "                \"name\": dimension.name,\n",
        "                \"description\": dimension.description,\n",
        "            }\n",
        "            dimensions.append(def_dimension)\n",
        "\n",
        "    if explore.fields and explore.fields.measures:\n",
        "        for measure in explore.fields.measures:\n",
        "          if not measure.hidden:\n",
        "            def_measure = {\n",
        "              \"name\": measure.name,\n",
        "              \"description\": measure.description,\n",
        "            }\n",
        "            measures.append(def_measure)\n",
        "\n",
        "    gr_dimensions = \"\"\n",
        "    gr_measures = \"\"\n",
        "\n",
        "    for d in dimensions:\n",
        "      dim_print = d['name']\n",
        "      desc_print = d['description']\n",
        "      gr_dimensions = gr_dimensions +f\"{dim_print}:{desc_print}\\n\"\n",
        "\n",
        "\n",
        "    for m in measures:\n",
        "      m_print = m['name']\n",
        "      m_desc = m['description']\n",
        "      gr_measures = gr_measures+ f\"{m_print}:{m_desc}\\n\"\n",
        "\n",
        "    return f\"Dimensions : \\n {gr_dimensions} \\n Measures : \\n {gr_measures}\"\n",
        "\n",
        "# Generate Standrized Examples : modify your dimension by the time dimension in your explore.\n",
        "def gen_std_examples(time_dim):\n",
        "  # this functions takes a standrized list of examples and replace 'events.event' by the user choosen time_dim (without the timeframe ! view.dimension eg order_items.)\n",
        "  response = requests.get('https://raw.githubusercontent.com/Kriz182/explore-assistant/main/stnd_examples.txt')\n",
        "  response = response.text.replace(\"events.event\", time_dim)\n",
        "  return response\n"
      ]
    },
    {
      "cell_type": "markdown",
      "source": [
        "## Launch Gradio App\n",
        "Run the code blow to Launch the Gradio App in the Colab or Externally.\n",
        "Alternatively, you can run the **functions above independently**."
      ],
      "metadata": {
        "id": "q8O7h3EeOyrG"
      }
    },
    {
      "cell_type": "code",
      "execution_count": 7,
      "metadata": {
        "id": "e200MmBU2aLT",
        "colab": {
          "base_uri": "https://localhost:8080/",
          "height": 625
        },
        "outputId": "1c5bc86a-e87f-4234-fa62-0ac4e83c5808"
      },
      "outputs": [
        {
          "output_type": "stream",
          "name": "stdout",
          "text": [
            "Colab notebook detected. This cell will run indefinitely so that you can see errors and logs. To turn off, set debug=False in launch().\n",
            "Running on public URL: https://18f66088fc8f0b0922.gradio.live\n",
            "\n",
            "This share link expires in 72 hours. For free permanent hosting and GPU upgrades, run `gradio deploy` from Terminal to deploy to Spaces (https://huggingface.co/spaces)\n"
          ]
        },
        {
          "output_type": "display_data",
          "data": {
            "text/plain": [
              "<IPython.core.display.HTML object>"
            ],
            "text/html": [
              "<div><iframe src=\"https://18f66088fc8f0b0922.gradio.live\" width=\"100%\" height=\"500\" allow=\"autoplay; camera; microphone; clipboard-read; clipboard-write;\" frameborder=\"0\" allowfullscreen></iframe></div>"
            ]
          },
          "metadata": {}
        },
        {
          "output_type": "stream",
          "name": "stdout",
          "text": [
            "Keyboard interruption in main thread... closing server.\n",
            "Killing tunnel 127.0.0.1:7860 <> https://18f66088fc8f0b0922.gradio.live\n"
          ]
        },
        {
          "output_type": "execute_result",
          "data": {
            "text/plain": []
          },
          "metadata": {},
          "execution_count": 7
        }
      ],
      "source": [
        "with gr.Blocks(theme=gr.themes.Soft()) as demo:\n",
        "    gr.Markdown(\n",
        "    \"\"\"\n",
        "    # Explore Assistant : demo configuration.\n",
        "\n",
        "    \"\"\")\n",
        "\n",
        "    with gr.Tab(label=\"1. Generate Context\"):\n",
        "        with gr.Row():\n",
        "            with gr.Column(scale=1):\n",
        "                ui_model = gr.Textbox(label=\"Model Name\")\n",
        "                ui_explore = gr.Textbox(label=\"Explore Name\")\n",
        "                ui_submit_button = gr.Button(value=\"Generate Context\")\n",
        "            with gr.Column(scale=5):\n",
        "                ui_context = gr.Textbox(label=\"Dictionary\", show_copy_button=True)\n",
        "                ui_submit_button.click(fn=get_dict, inputs=[ui_model, ui_explore], outputs=ui_context)\n",
        "\n",
        "    with gr.Tab(label=\"2. Standrized Examples\"):\n",
        "        with gr.Row():\n",
        "            with gr.Column(scale=1):\n",
        "                ui_time_dim = gr.Textbox(label=\"Insert default time dimension eg `order_items.created` without the time frame\", value =\"view.dimension\")\n",
        "                ui_button_ex = ui_submit_button = gr.Button(value=\"Generate Examples\")\n",
        "            with gr.Column(scale=5):\n",
        "                ui_button_ex.click(fn=gen_std_examples, inputs=ui_time_dim, outputs=gr.Textbox(label=\"Standrized Examples\", show_copy_button=True))\n",
        "\n",
        "    with gr.Tab(label=\"3. Dashboard Examples\"):\n",
        "        1\n",
        "    with gr.Tab(label=\"4. Recent Queries Examples\"):\n",
        "        1\n",
        "\n",
        "demo.launch(debug=True, share=True)"
      ]
    }
  ],
  "metadata": {
    "colab": {
      "provenance": []
    },
    "kernelspec": {
      "display_name": "Python 3",
      "name": "python3"
    }
  },
  "nbformat": 4,
  "nbformat_minor": 0
}